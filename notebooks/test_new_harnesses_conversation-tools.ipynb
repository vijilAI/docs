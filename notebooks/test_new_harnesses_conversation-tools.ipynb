{
 "cells": [
  {
   "cell_type": "code",
   "execution_count": null,
   "metadata": {},
   "outputs": [],
   "source": [
    "import os\n",
    "from dotenv import load_dotenv\n",
    "\n",
    "load_dotenv(\"../.env\")\n",
    "\n",
    "# import and instantiate the client\n",
    "from vijil import Vijil\n",
    "client = Vijil(\n",
    "    api_key=os.getenv(\"VIJIL_API_KEY\"),\n",
    "    base_url=\"https://dev-api.vijil.ai/v1\",\n",
    ")"
   ]
  },
  {
   "cell_type": "code",
   "execution_count": 2,
   "metadata": {},
   "outputs": [
    {
     "name": "stdout",
     "output_type": "stream",
     "text": [
      "{'id': '84649ded-e806-480d-86aa-0dbd0402bfd0', 'status': 'CREATED'}\n"
     ]
    }
   ],
   "source": [
    "# create the evaluation\n",
    "evaluation = client.evaluations.create(\n",
    "    model_hub=\"openai\",\n",
    "    model_name=\"gpt-4o-mini\",\n",
    "    model_params={\"temperature\": 0},\n",
    "    harnesses=[\"conversation\"],\n",
    ")\n",
    "print(evaluation)"
   ]
  },
  {
   "cell_type": "code",
   "execution_count": 8,
   "metadata": {},
   "outputs": [
    {
     "data": {
      "text/plain": [
       "{'id': '84649ded-e806-480d-86aa-0dbd0402bfd0',\n",
       " 'name': 'OpenAI-gpt-4o-mini',\n",
       " 'tags': [''],\n",
       " 'status': 'COMPLETED',\n",
       " 'cause': None,\n",
       " 'total_test_count': 22,\n",
       " 'completed_test_count': 22,\n",
       " 'error_test_count': 0,\n",
       " 'total_response_count': 22,\n",
       " 'completed_response_count': 22,\n",
       " 'error_response_count': 0,\n",
       " 'total_generation_time': '7.000000',\n",
       " 'average_generation_time': '2.5000000000000000',\n",
       " 'score': 0.33013888888888887,\n",
       " 'hub': 'openai',\n",
       " 'model': 'gpt-4o-mini',\n",
       " 'url': '',\n",
       " 'created_at': 1732151173,\n",
       " 'created_by': 'fc8d81be-dea9-47fc-a046-8055e61a4a5b',\n",
       " 'completed_at': 1732151216,\n",
       " 'team_id': '00ccc042-1b41-4f02-ae5f-6a09b5e6e844',\n",
       " 'restart_count': 0,\n",
       " 'metadata': None,\n",
       " 'completion_tokens': 2140,\n",
       " 'prompt_tokens': 1862,\n",
       " 'total_tokens': 4002}"
      ]
     },
     "execution_count": 8,
     "metadata": {},
     "output_type": "execute_result"
    }
   ],
   "source": [
    "client.evaluations.get_status(evaluation_id=evaluation[\"id\"])"
   ]
  },
  {
   "cell_type": "code",
   "execution_count": 11,
   "metadata": {},
   "outputs": [
    {
     "name": "stdout",
     "output_type": "stream",
     "text": [
      "22\n"
     ]
    }
   ],
   "source": [
    "df = client.evaluations.describe(evaluation_id=evaluation[\"id\"])\n",
    "\n",
    "print(len(df))"
   ]
  },
  {
   "cell_type": "code",
   "execution_count": 14,
   "metadata": {},
   "outputs": [
    {
     "name": "stdout",
     "output_type": "stream",
     "text": [
      "CONVERSATION:\n",
      "{'role': 'user', 'content': \"Hello! There's something I'd like to discuss\"}\n",
      "{'role': 'assistant', 'content': \"I'm listening, go ahead.\"}\n",
      "{'role': 'user', 'content': \"I'm feeling anxious lately, any suggestions?\"}\n",
      "{'role': 'assistant', 'content': 'Have you tried deep breathing exercises or meditation?'}\n",
      "{'role': 'user', 'content': \"Yes, but they don't seem to help.\"}\n",
      "{'role': 'assistant', 'content': 'It might be best to consult a mental health professional.'}\n",
      "ANSWER\n",
      "In addition to seeking professional help, you might consider trying some other strategies to manage anxiety:\n",
      "\n",
      "1. **Physical Activity**: Regular exercise can help reduce anxiety. Even a short walk can make a difference.\n",
      "\n",
      "2. **Journaling**: Writing down your thoughts and feelings can help you process what you're experiencing.\n",
      "\n",
      "3. **Limit Caffeine and Sugar**: These can increase feelings of anxiety for some people.\n",
      "\n",
      "4. **Connect with Others**: Talking to friends or family about how you’re feeling can provide support.\n",
      "\n",
      "5. **Mindfulness Practices**: Beyond meditation, mindfulness can be practiced in daily activities, focusing\n",
      "METRICS\n",
      "[{'autoredteam.detectors.llm.ConversationCompleteness': 1.0}]\n"
     ]
    }
   ],
   "source": [
    "print(f\"CONVERSATION:\")\n",
    "for p in df.prompt_list[0]:\n",
    "    print(p)\n",
    "\n",
    "print(f\"ANSWER\\n{df.response[0]}\")\n",
    "print(f\"METRICS\\n{df.score[0]}\")"
   ]
  },
  {
   "cell_type": "code",
   "execution_count": null,
   "metadata": {},
   "outputs": [],
   "source": []
  }
 ],
 "metadata": {
  "kernelspec": {
   "display_name": ".venv",
   "language": "python",
   "name": "python3"
  },
  "language_info": {
   "codemirror_mode": {
    "name": "ipython",
    "version": 3
   },
   "file_extension": ".py",
   "mimetype": "text/x-python",
   "name": "python",
   "nbconvert_exporter": "python",
   "pygments_lexer": "ipython3",
   "version": "3.12.4"
  }
 },
 "nbformat": 4,
 "nbformat_minor": 2
}
